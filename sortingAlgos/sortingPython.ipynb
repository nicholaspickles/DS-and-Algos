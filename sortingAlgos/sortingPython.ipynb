{
 "metadata": {
  "language_info": {
   "codemirror_mode": {
    "name": "ipython",
    "version": 3
   },
   "file_extension": ".py",
   "mimetype": "text/x-python",
   "name": "python",
   "nbconvert_exporter": "python",
   "pygments_lexer": "ipython3",
   "version": "3.8.6-candidate"
  },
  "orig_nbformat": 2,
  "kernelspec": {
   "name": "python3",
   "display_name": "Python 3",
   "language": "python"
  }
 },
 "nbformat": 4,
 "nbformat_minor": 2,
 "cells": [
  {
   "source": [
    "# This file will have the explanations of the sorting algorithms as well as its implementations in python."
   ],
   "cell_type": "markdown",
   "metadata": {}
  },
  {
   "source": [
    "## Insertion Sort\n",
    "### Going through each element in the array (from left to right) and placing them in the correct spot."
   ],
   "cell_type": "markdown",
   "metadata": {}
  },
  {
   "cell_type": "code",
   "execution_count": 11,
   "metadata": {},
   "outputs": [],
   "source": [
    "def insertionSort(arr):\n",
    "    # settling base case where the length of the array is 1 or empty, in which case it is already sorted\n",
    "    if len(arr) <= 1:\n",
    "        return arr\n",
    "    for j in range(1, len(arr)):\n",
    "        i = j-1\n",
    "        curr = arr[j]\n",
    "\n",
    "        while (i >= 0 and arr[i] > curr):\n",
    "            arr[i+1] = arr[i]\n",
    "            i -= 1\n",
    "        \n",
    "        arr[i+1] = curr\n",
    "    \n",
    "    return arr"
   ]
  },
  {
   "cell_type": "code",
   "execution_count": 28,
   "metadata": {},
   "outputs": [
    {
     "output_type": "stream",
     "name": "stdout",
     "text": [
      "sorted array:  [-5, 0, 2, 2, 3, 4, 5, 7]\n"
     ]
    }
   ],
   "source": [
    "#testing for insertionSort()\n",
    "testArray = [4,2,5,7,-5,3,0,2]\n",
    "print(\"sorted array: \", insertionSort(testArray))"
   ]
  },
  {
   "source": [
    "### Analysis\n",
    "\n",
    "The for-loop will execute 'n' times.\n",
    "The while-loop will execute 't' times, where t is the number of times the conditions are met. This is subjected to the order of the input array. \n",
    "\n",
    "In the best case scenario, the for-loop will occur 'n' times, and the while-loop will occur only once per for-loop. This happens when the input array is already in the sorted order that we want. Thus, insertion sorted in the best case scenario is O(n).\n",
    "\n",
    "In the worst case scenario, the for-loop will occur 'n' times, and the while-loop will occer 'n-1' times. This happens when the input array is in the reverse order of what we want. When adding all the time complities multiplied by the cost of each line, the T(n) will be quadratic, thus the worst case scenario will yield O(n^2).\n",
    "\n"
   ],
   "cell_type": "markdown",
   "metadata": {}
  },
  {
   "source": [
    "## Selection Sort\n",
    "\n",
    "### Going through the elements of the list and finding the smallest value, placing it to the front, then finding the second smallest value, and so on."
   ],
   "cell_type": "markdown",
   "metadata": {}
  },
  {
   "cell_type": "code",
   "execution_count": 29,
   "metadata": {},
   "outputs": [],
   "source": [
    "def selectionSort(arr):\n",
    "    for i in range(len(arr)):\n",
    "        minIdx = i\n",
    "\n",
    "        for j in range(i+1, len(arr)):\n",
    "            if arr[j] < arr[minIdx]:\n",
    "                minIdx = j\n",
    "        \n",
    "        arr[i], arr[minIdx] = arr[minIdx], arr[i]\n",
    "\n",
    "    return arr\n",
    "        "
   ]
  },
  {
   "cell_type": "code",
   "execution_count": 30,
   "metadata": {},
   "outputs": [
    {
     "output_type": "stream",
     "name": "stdout",
     "text": [
      "sorted array:  [3, 5, 6, 7, 8]\n"
     ]
    }
   ],
   "source": [
    "# testing for selectionSort()\n",
    "print(\"sorted array: \", selectionSort([5,3,6,7,8]))"
   ]
  },
  {
   "cell_type": "code",
   "execution_count": null,
   "metadata": {},
   "outputs": [],
   "source": []
  }
 ]
}