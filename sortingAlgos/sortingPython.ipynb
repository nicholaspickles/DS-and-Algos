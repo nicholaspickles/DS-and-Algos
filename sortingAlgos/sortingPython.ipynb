{
 "metadata": {
  "language_info": {
   "codemirror_mode": {
    "name": "ipython",
    "version": 3
   },
   "file_extension": ".py",
   "mimetype": "text/x-python",
   "name": "python",
   "nbconvert_exporter": "python",
   "pygments_lexer": "ipython3",
   "version": "3.8.6-candidate"
  },
  "orig_nbformat": 2,
  "kernelspec": {
   "name": "python3",
   "display_name": "Python 3",
   "language": "python"
  }
 },
 "nbformat": 4,
 "nbformat_minor": 2,
 "cells": [
  {
   "source": [
    "# This file will have the explanations of the sorting algorithms as well as its implementations in python."
   ],
   "cell_type": "markdown",
   "metadata": {}
  },
  {
   "source": [
    "## Insertion Sort\n",
    "### Going through each element in the array (from left to right) and placing them in the correct spot."
   ],
   "cell_type": "markdown",
   "metadata": {}
  },
  {
   "cell_type": "code",
   "execution_count": 11,
   "metadata": {},
   "outputs": [],
   "source": [
    "def insertionSort(arr):\n",
    "    # settling base case where the length of the array is 1 or empty, in which case it is already sorted\n",
    "    if len(arr) <= 1:\n",
    "        return arr\n",
    "    for j in range(1, len(arr)):\n",
    "        i = j-1\n",
    "        curr = arr[j]\n",
    "\n",
    "        while (i >= 0 and arr[i] > curr):\n",
    "            arr[i+1] = arr[i]\n",
    "            i -= 1\n",
    "        \n",
    "        arr[i+1] = curr\n",
    "    \n",
    "    return arr"
   ]
  },
  {
   "cell_type": "code",
   "execution_count": 28,
   "metadata": {},
   "outputs": [
    {
     "output_type": "stream",
     "name": "stdout",
     "text": [
      "sorted array:  [-5, 0, 2, 2, 3, 4, 5, 7]\n"
     ]
    }
   ],
   "source": [
    "#testing for insertionSort()\n",
    "testArray = [4,2,5,7,-5,3,0,2]\n",
    "print(\"sorted array: \", insertionSort(testArray))"
   ]
  },
  {
   "source": [
    "### Analysis\n",
    "\n",
    "The for-loop will execute 'n' times.\n",
    "The while-loop will execute 't' times, where t is the number of times the conditions are met. This is subjected to the order of the input array. \n",
    "\n",
    "In the best case scenario, the for-loop will occur 'n' times, and the while-loop will occur only once per for-loop. This happens when the input array is already in the sorted order that we want. Thus, insertion sorted in the best case scenario is O(n).\n",
    "\n",
    "In the worst case scenario, the for-loop will occur 'n' times, and the while-loop will occer 'n-1' times. This happens when the input array is in the reverse order of what we want. When adding all the time complities multiplied by the cost of each line, the T(n) will be quadratic, thus the worst case scenario will yield O($n^{2}$).\n",
    "\n"
   ],
   "cell_type": "markdown",
   "metadata": {}
  },
  {
   "source": [
    "## Selection Sort\n",
    "\n",
    "### Going through the elements of the list and finding the smallest value, placing it to the front, then finding the second smallest value, and so on."
   ],
   "cell_type": "markdown",
   "metadata": {}
  },
  {
   "cell_type": "code",
   "execution_count": 29,
   "metadata": {},
   "outputs": [],
   "source": [
    "def selectionSort(arr):\n",
    "    for i in range(len(arr)):\n",
    "        minIdx = i\n",
    "\n",
    "        for j in range(i+1, len(arr)):\n",
    "            if arr[j] < arr[minIdx]:\n",
    "                minIdx = j\n",
    "        \n",
    "        arr[i], arr[minIdx] = arr[minIdx], arr[i]\n",
    "\n",
    "    return arr\n",
    "        "
   ]
  },
  {
   "cell_type": "code",
   "execution_count": 30,
   "metadata": {},
   "outputs": [
    {
     "output_type": "stream",
     "name": "stdout",
     "text": [
      "sorted array:  [3, 5, 6, 7, 8]\n"
     ]
    }
   ],
   "source": [
    "# testing for selectionSort()\n",
    "print(\"sorted array: \", selectionSort([5,3,6,7,8]))"
   ]
  },
  {
   "source": [
    "### Analysis\n",
    "\n",
    "The selection sort has a nested for-loop, and for each for-loop, there are 'n' steps, therefore there are $n^{2}$ steps.\n",
    "\n",
    "Complexity of the selection sort is O($n^{2}$)."
   ],
   "cell_type": "markdown",
   "metadata": {}
  },
  {
   "source": [
    "## Merge Sort\n",
    "\n",
    "Half the input array and create subsequences, sort the subsequences and merge them together. The implementation below is done recursively.\n",
    "\n",
    "Merge sort is done through the Divide and Conquer strategy"
   ],
   "cell_type": "markdown",
   "metadata": {}
  },
  {
   "cell_type": "code",
   "execution_count": 30,
   "metadata": {},
   "outputs": [],
   "source": [
    "import math;\n",
    "\n",
    "def merge(array, startIdx, midIdx, endIdx):\n",
    "\n",
    "    n1 = midIdx - startIdx + 1\n",
    "    n2 = endIdx- midIdx \n",
    "  \n",
    "    lowHalf = [0] * (n1) \n",
    "    highHalf = [0] * (n2) \n",
    "  \n",
    "    for i in range(0 , n1): \n",
    "        lowHalf[i] = array[startIdx + i] \n",
    "  \n",
    "    for j in range(0 , n2): \n",
    "        highHalf[j] = array[midIdx + 1 + j] \n",
    "\n",
    "    k = startIdx\n",
    "    i = 0\n",
    "    j = 0\n",
    "\n",
    "    while (i < len(lowHalf) and j < len(highHalf)):\n",
    "        if (lowHalf[i] < highHalf[j]):\n",
    "            array[k] = lowHalf[i]\n",
    "            i += 1\n",
    "        else:\n",
    "            array[k] = highHalf[j]\n",
    "            j += 1\n",
    "        k += 1\n",
    "\n",
    "    while (i < len(lowHalf)):\n",
    "        array[k] = lowHalf[i]\n",
    "        k += 1\n",
    "        i += 1\n",
    "    while (j < len(highHalf)):\n",
    "        array[k] = highHalf[j]\n",
    "        k += 1\n",
    "        j +=1 \n",
    "    \n",
    "    return array\n",
    "\n",
    "def mergeSort(array, startIdx, endIdx):\n",
    "    midIdx = math.floor((startIdx + endIdx) / 2)\n",
    "\n",
    "    if (startIdx < endIdx): #as long as the subsequence has at least 2 elements\n",
    "        mergeSort(array, startIdx, midIdx)\n",
    "        mergeSort(array, midIdx+1, endIdx)\n",
    "        merge(array, startIdx, midIdx, endIdx)\n",
    "    \n",
    "    return array\n"
   ]
  },
  {
   "cell_type": "code",
   "execution_count": 31,
   "metadata": {},
   "outputs": [
    {
     "output_type": "stream",
     "name": "stdout",
     "text": [
      "sorted array:  [-12, 0, 2, 3, 6, 7, 9, 11, 12, 14]\n"
     ]
    }
   ],
   "source": [
    "# Testing mergeSort()\n",
    "testArr = [-12, 14, 7, 3, 12, 9, 0, 11, 6, 2]\n",
    "print(\"sorted array: \", mergeSort(testArr, 0, len(testArr)-1))"
   ]
  },
  {
   "source": [
    "### Analysis\n",
    "\n",
    "Merge sort divides the array into (almmost) equally lengthed arrays and solves them recursively using merge sort. \n",
    "\n",
    "$T(\\frac{n_{L}}{2}) + T(\\frac{n_{R}}{2}) = 2T(\\frac{n}{2}) = T(n)$\n",
    "\n",
    "as n $\\rightarrow \\infty$, the worst case scenario will remain as T(n) = O(n).\n",
    "\n",
    "Since $n_{L}$ = left half = $n_{R}$ = right half,\n",
    "\n",
    "$ \\therefore n_{L} \\approx n_{R} $\n",
    "\n",
    "During the merge process, every element in the array is only interacted with once, and the other commands that create variables are have O(1) complexity, which is too insiginificant to consider, so, merge() takens O(n) time since it interacts which each element onto once.\n",
    "\n",
    "In the mergeSort() method, <br /> <br />\n",
    "T(mergeSort()) == T(mergeSort()) == T($\\frac{n}{2}$) <br />\n",
    "$\\therefore T(n) = 2T(\\frac{n}{2}) + T(merge())$ <br /> <br />\n",
    "<br/> Finally, $T(n) = 2T(\\frac{n}{2}) + n \\approx O(nlogn) $\n",
    "<br /> <br />\n",
    "How to get O(nlogn): <br/> <br/> \n",
    "The number of levels in a tree is given by lg(n) + 1. <br/>\n",
    "<br /> tree structure: <br/> level | total cost <br/><br/>level 1: cn =  cn <br/> level 2: c($\\frac{n}{2})+c(\\frac{n}{2}) = cn $ <br/> level 3: c($\\frac{n}{4})+c(\\frac{n}{4}) + c(\\frac{n}{4})+c(\\frac{n}{4}) = cn $ <br/> ... <br/><br/> To find the total cost, we just add up all the costs of the levels : <br/><br/> $\\therefore cn(lg(n) + 1) = cnlg(n) + cn$ (ignore low order term and the constant c) <br/> $\\approx O(nlg(n))$\n",
    "\n"
   ],
   "cell_type": "markdown",
   "metadata": {}
  },
  {
   "source": [],
   "cell_type": "markdown",
   "metadata": {}
  }
 ]
}